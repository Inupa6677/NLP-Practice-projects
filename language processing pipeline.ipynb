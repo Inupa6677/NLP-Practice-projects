{
 "cells": [
  {
   "cell_type": "code",
   "execution_count": 1,
   "id": "c5357b3a",
   "metadata": {},
   "outputs": [
    {
     "name": "stdout",
     "output_type": "stream",
     "text": [
      "Captain\n",
      "america\n",
      "ate\n",
      "100\n",
      "$\n",
      "of\n",
      "samosa\n",
      ".\n",
      "Then\n",
      "he\n",
      "said\n",
      "I\n",
      "can\n",
      "do\n",
      "this\n",
      "all\n",
      "day\n",
      ".\n"
     ]
    }
   ],
   "source": [
    "import spacy\n",
    "\n",
    "nlp = spacy.blank(\"en\")\n",
    "\n",
    "doc = nlp(\"Captain america ate 100$ of samosa. Then he said I can do this all day.\")\n",
    "\n",
    "for token in doc:\n",
    "    print(token)"
   ]
  },
  {
   "cell_type": "code",
   "execution_count": 2,
   "id": "5b574881",
   "metadata": {},
   "outputs": [
    {
     "data": {
      "text/plain": [
       "[]"
      ]
     },
     "execution_count": 2,
     "metadata": {},
     "output_type": "execute_result"
    }
   ],
   "source": [
    "nlp.pipe_names"
   ]
  },
  {
   "cell_type": "code",
   "execution_count": 3,
   "id": "a80698a0",
   "metadata": {},
   "outputs": [
    {
     "data": {
      "text/plain": [
       "['tok2vec', 'tagger', 'parser', 'attribute_ruler', 'lemmatizer', 'ner']"
      ]
     },
     "execution_count": 3,
     "metadata": {},
     "output_type": "execute_result"
    }
   ],
   "source": [
    "nlp = spacy.load(\"en_core_web_sm\")\n",
    "nlp.pipe_names"
   ]
  },
  {
   "cell_type": "code",
   "execution_count": 4,
   "id": "c499bd93",
   "metadata": {},
   "outputs": [
    {
     "data": {
      "text/plain": [
       "[('tok2vec', <spacy.pipeline.tok2vec.Tok2Vec at 0x23799502b10>),\n",
       " ('tagger', <spacy.pipeline.tagger.Tagger at 0x237995029f0>),\n",
       " ('parser', <spacy.pipeline.dep_parser.DependencyParser at 0x237994e2960>),\n",
       " ('attribute_ruler',\n",
       "  <spacy.pipeline.attributeruler.AttributeRuler at 0x2379980dcd0>),\n",
       " ('lemmatizer', <spacy.lang.en.lemmatizer.EnglishLemmatizer at 0x23799526950>),\n",
       " ('ner', <spacy.pipeline.ner.EntityRecognizer at 0x237994e2b20>)]"
      ]
     },
     "execution_count": 4,
     "metadata": {},
     "output_type": "execute_result"
    }
   ],
   "source": [
    "nlp.pipeline"
   ]
  },
  {
   "cell_type": "code",
   "execution_count": 5,
   "id": "82e06d54",
   "metadata": {},
   "outputs": [
    {
     "name": "stdout",
     "output_type": "stream",
     "text": [
      "Captain  |  proper noun  |  Captain\n",
      "america  |  proper noun  |  america\n",
      "ate  |  verb  |  eat\n",
      "100  |  numeral  |  100\n",
      "$  |  numeral  |  $\n",
      "of  |  adposition  |  of\n",
      "samosa  |  proper noun  |  samosa\n",
      ".  |  punctuation  |  .\n",
      "Then  |  adverb  |  then\n",
      "he  |  pronoun  |  he\n",
      "said  |  verb  |  say\n",
      "I  |  pronoun  |  I\n",
      "can  |  auxiliary  |  can\n",
      "do  |  verb  |  do\n",
      "this  |  pronoun  |  this\n",
      "all  |  determiner  |  all\n",
      "day  |  noun  |  day\n",
      ".  |  punctuation  |  .\n"
     ]
    }
   ],
   "source": [
    "doc = nlp(\"Captain america ate 100$ of samosa. Then he said I can do this all day.\")\n",
    "\n",
    "for token in doc:\n",
    "    print(token, \" | \", spacy.explain(token.pos_), \" | \", token.lemma_)"
   ]
  },
  {
   "cell_type": "markdown",
   "id": "4cc567a3",
   "metadata": {},
   "source": [
    "## named entity recognition"
   ]
  },
  {
   "cell_type": "code",
   "execution_count": 6,
   "id": "7d93f362",
   "metadata": {},
   "outputs": [
    {
     "name": "stdout",
     "output_type": "stream",
     "text": [
      "Tesla Inc ORG\n",
      "$45 billion MONEY\n"
     ]
    }
   ],
   "source": [
    "doc = nlp(\"Tesla Inc is going to acquire twitter for $45 billion\")\n",
    "for ent in doc.ents:\n",
    "    print(ent.text, ent.label_)"
   ]
  },
  {
   "cell_type": "code",
   "execution_count": 7,
   "id": "1e346af7",
   "metadata": {},
   "outputs": [
    {
     "data": {
      "text/html": [
       "<span class=\"tex2jax_ignore\"><div class=\"entities\" style=\"line-height: 2.5; direction: ltr\">\n",
       "<mark class=\"entity\" style=\"background: #7aecec; padding: 0.45em 0.6em; margin: 0 0.25em; line-height: 1; border-radius: 0.35em;\">\n",
       "    Tesla Inc\n",
       "    <span style=\"font-size: 0.8em; font-weight: bold; line-height: 1; border-radius: 0.35em; vertical-align: middle; margin-left: 0.5rem\">ORG</span>\n",
       "</mark>\n",
       " is going to acquire twitter for \n",
       "<mark class=\"entity\" style=\"background: #e4e7d2; padding: 0.45em 0.6em; margin: 0 0.25em; line-height: 1; border-radius: 0.35em;\">\n",
       "    $45 billion\n",
       "    <span style=\"font-size: 0.8em; font-weight: bold; line-height: 1; border-radius: 0.35em; vertical-align: middle; margin-left: 0.5rem\">MONEY</span>\n",
       "</mark>\n",
       "</div></span>"
      ],
      "text/plain": [
       "<IPython.core.display.HTML object>"
      ]
     },
     "metadata": {},
     "output_type": "display_data"
    }
   ],
   "source": [
    "from spacy import displacy\n",
    "\n",
    "displacy.render(doc, style=\"ent\")"
   ]
  },
  {
   "cell_type": "code",
   "execution_count": 9,
   "id": "7efe7131",
   "metadata": {},
   "outputs": [
    {
     "name": "stdout",
     "output_type": "stream",
     "text": [
      "Collecting fr-core-news-sm==3.7.0\n",
      "  Downloading https://github.com/explosion/spacy-models/releases/download/fr_core_news_sm-3.7.0/fr_core_news_sm-3.7.0-py3-none-any.whl (16.3 MB)\n",
      "     ---------------------------------------- 0.0/16.3 MB ? eta -:--:--\n",
      "     ---------------------------------------- 0.0/16.3 MB ? eta -:--:--\n",
      "     --------------------------------------- 0.0/16.3 MB 262.6 kB/s eta 0:01:02\n",
      "     --------------------------------------- 0.1/16.3 MB 363.1 kB/s eta 0:00:45\n",
      "     --------------------------------------- 0.1/16.3 MB 544.7 kB/s eta 0:00:30\n",
      "     --------------------------------------- 0.2/16.3 MB 697.2 kB/s eta 0:00:24\n",
      "      -------------------------------------- 0.3/16.3 MB 947.5 kB/s eta 0:00:17\n",
      "     - -------------------------------------- 0.4/16.3 MB 1.3 MB/s eta 0:00:13\n",
      "     - -------------------------------------- 0.6/16.3 MB 1.4 MB/s eta 0:00:11\n",
      "     - -------------------------------------- 0.8/16.3 MB 1.8 MB/s eta 0:00:09\n",
      "     -- ------------------------------------- 0.9/16.3 MB 2.1 MB/s eta 0:00:08\n",
      "     -- ------------------------------------- 1.2/16.3 MB 2.3 MB/s eta 0:00:07\n",
      "     --- ------------------------------------ 1.4/16.3 MB 2.5 MB/s eta 0:00:07\n",
      "     --- ------------------------------------ 1.6/16.3 MB 2.7 MB/s eta 0:00:06\n",
      "     ---- ----------------------------------- 1.8/16.3 MB 2.9 MB/s eta 0:00:06\n",
      "     ----- ---------------------------------- 2.1/16.3 MB 3.0 MB/s eta 0:00:05\n",
      "     ----- ---------------------------------- 2.4/16.3 MB 3.1 MB/s eta 0:00:05\n",
      "     ------ --------------------------------- 2.5/16.3 MB 3.2 MB/s eta 0:00:05\n",
      "     ------ --------------------------------- 2.8/16.3 MB 3.4 MB/s eta 0:00:05\n",
      "     ------- -------------------------------- 3.0/16.3 MB 3.4 MB/s eta 0:00:04\n",
      "     -------- ------------------------------- 3.3/16.3 MB 3.5 MB/s eta 0:00:04\n",
      "     -------- ------------------------------- 3.5/16.3 MB 3.6 MB/s eta 0:00:04\n",
      "     --------- ------------------------------ 3.7/16.3 MB 3.7 MB/s eta 0:00:04\n",
      "     --------- ------------------------------ 3.9/16.3 MB 3.7 MB/s eta 0:00:04\n",
      "     ---------- ----------------------------- 4.1/16.3 MB 3.7 MB/s eta 0:00:04\n",
      "     ---------- ----------------------------- 4.2/16.3 MB 3.6 MB/s eta 0:00:04\n",
      "     ---------- ----------------------------- 4.2/16.3 MB 3.5 MB/s eta 0:00:04\n",
      "     ---------- ----------------------------- 4.3/16.3 MB 3.5 MB/s eta 0:00:04\n",
      "     ---------- ----------------------------- 4.3/16.3 MB 3.5 MB/s eta 0:00:04\n",
      "     ---------- ----------------------------- 4.3/16.3 MB 3.5 MB/s eta 0:00:04\n",
      "     ----------- ---------------------------- 4.7/16.3 MB 3.5 MB/s eta 0:00:04\n",
      "     ----------- ---------------------------- 4.9/16.3 MB 3.4 MB/s eta 0:00:04\n",
      "     ------------ --------------------------- 5.2/16.3 MB 3.5 MB/s eta 0:00:04\n",
      "     ------------- -------------------------- 5.5/16.3 MB 3.6 MB/s eta 0:00:04\n",
      "     -------------- ------------------------- 5.7/16.3 MB 3.6 MB/s eta 0:00:03\n",
      "     -------------- ------------------------- 5.9/16.3 MB 3.6 MB/s eta 0:00:03\n",
      "     --------------- ------------------------ 6.2/16.3 MB 3.7 MB/s eta 0:00:03\n",
      "     --------------- ------------------------ 6.3/16.3 MB 3.7 MB/s eta 0:00:03\n",
      "     ---------------- ----------------------- 6.6/16.3 MB 3.7 MB/s eta 0:00:03\n",
      "     ---------------- ----------------------- 6.8/16.3 MB 3.7 MB/s eta 0:00:03\n",
      "     ----------------- ---------------------- 7.0/16.3 MB 3.8 MB/s eta 0:00:03\n",
      "     ----------------- ---------------------- 7.2/16.3 MB 3.8 MB/s eta 0:00:03\n",
      "     ------------------ --------------------- 7.4/16.3 MB 3.8 MB/s eta 0:00:03\n",
      "     ------------------ --------------------- 7.6/16.3 MB 3.8 MB/s eta 0:00:03\n",
      "     ------------------- -------------------- 7.9/16.3 MB 3.8 MB/s eta 0:00:03\n",
      "     ------------------- -------------------- 8.1/16.3 MB 3.8 MB/s eta 0:00:03\n",
      "     -------------------- ------------------- 8.3/16.3 MB 3.9 MB/s eta 0:00:03\n",
      "     -------------------- ------------------- 8.5/16.3 MB 3.9 MB/s eta 0:00:02\n",
      "     --------------------- ------------------ 8.7/16.3 MB 3.9 MB/s eta 0:00:02\n",
      "     --------------------- ------------------ 8.9/16.3 MB 3.9 MB/s eta 0:00:02\n",
      "     ---------------------- ----------------- 9.1/16.3 MB 3.9 MB/s eta 0:00:02\n",
      "     ---------------------- ----------------- 9.3/16.3 MB 3.9 MB/s eta 0:00:02\n",
      "     ----------------------- ---------------- 9.6/16.3 MB 3.9 MB/s eta 0:00:02\n",
      "     ------------------------ --------------- 9.8/16.3 MB 4.0 MB/s eta 0:00:02\n",
      "     ------------------------ --------------- 10.0/16.3 MB 4.0 MB/s eta 0:00:02\n",
      "     ------------------------- -------------- 10.2/16.3 MB 4.0 MB/s eta 0:00:02\n",
      "     ------------------------- -------------- 10.4/16.3 MB 4.3 MB/s eta 0:00:02\n",
      "     ------------------------- -------------- 10.5/16.3 MB 4.3 MB/s eta 0:00:02\n",
      "     -------------------------- ------------- 10.6/16.3 MB 4.3 MB/s eta 0:00:02\n",
      "     -------------------------- ------------- 10.8/16.3 MB 4.3 MB/s eta 0:00:02\n",
      "     --------------------------- ------------ 11.0/16.3 MB 4.3 MB/s eta 0:00:02\n",
      "     --------------------------- ------------ 11.2/16.3 MB 4.3 MB/s eta 0:00:02\n",
      "     --------------------------- ------------ 11.3/16.3 MB 4.3 MB/s eta 0:00:02\n",
      "     --------------------------- ------------ 11.4/16.3 MB 4.2 MB/s eta 0:00:02\n",
      "     ---------------------------- ----------- 11.5/16.3 MB 4.2 MB/s eta 0:00:02\n",
      "     ---------------------------- ----------- 11.6/16.3 MB 4.1 MB/s eta 0:00:02\n",
      "     ---------------------------- ----------- 11.7/16.3 MB 4.1 MB/s eta 0:00:02\n",
      "     ----------------------------- ---------- 11.9/16.3 MB 4.1 MB/s eta 0:00:02\n",
      "     ----------------------------- ---------- 12.0/16.3 MB 4.0 MB/s eta 0:00:02\n",
      "     ------------------------------ --------- 12.2/16.3 MB 4.0 MB/s eta 0:00:02\n",
      "     ------------------------------ --------- 12.3/16.3 MB 4.0 MB/s eta 0:00:01\n",
      "     ------------------------------ --------- 12.5/16.3 MB 4.0 MB/s eta 0:00:01\n",
      "     ------------------------------- -------- 12.6/16.3 MB 3.9 MB/s eta 0:00:01\n",
      "     ------------------------------- -------- 12.8/16.3 MB 3.9 MB/s eta 0:00:01\n",
      "     ------------------------------- -------- 12.9/16.3 MB 3.9 MB/s eta 0:00:01\n",
      "     -------------------------------- ------- 13.1/16.3 MB 3.9 MB/s eta 0:00:01\n",
      "     -------------------------------- ------- 13.3/16.3 MB 3.9 MB/s eta 0:00:01\n",
      "     -------------------------------- ------- 13.4/16.3 MB 3.8 MB/s eta 0:00:01\n",
      "     --------------------------------- ------ 13.5/16.3 MB 3.8 MB/s eta 0:00:01\n",
      "     --------------------------------- ------ 13.7/16.3 MB 3.8 MB/s eta 0:00:01\n",
      "     ---------------------------------- ----- 13.8/16.3 MB 3.7 MB/s eta 0:00:01\n",
      "     ---------------------------------- ----- 14.0/16.3 MB 3.7 MB/s eta 0:00:01\n",
      "     ---------------------------------- ----- 14.2/16.3 MB 3.7 MB/s eta 0:00:01\n",
      "     ----------------------------------- ---- 14.3/16.3 MB 3.7 MB/s eta 0:00:01\n",
      "     ----------------------------------- ---- 14.5/16.3 MB 3.8 MB/s eta 0:00:01\n",
      "     ----------------------------------- ---- 14.6/16.3 MB 3.9 MB/s eta 0:00:01\n",
      "     ------------------------------------ --- 14.8/16.3 MB 3.9 MB/s eta 0:00:01\n",
      "     ------------------------------------ --- 14.9/16.3 MB 3.8 MB/s eta 0:00:01\n",
      "     ------------------------------------ --- 15.0/16.3 MB 3.8 MB/s eta 0:00:01\n",
      "     ------------------------------------- -- 15.1/16.3 MB 3.8 MB/s eta 0:00:01\n",
      "     ------------------------------------- -- 15.3/16.3 MB 3.7 MB/s eta 0:00:01\n",
      "     ------------------------------------- -- 15.4/16.3 MB 3.7 MB/s eta 0:00:01\n",
      "     -------------------------------------- - 15.6/16.3 MB 3.7 MB/s eta 0:00:01\n",
      "     -------------------------------------- - 15.8/16.3 MB 3.7 MB/s eta 0:00:01\n",
      "     ---------------------------------------  15.9/16.3 MB 3.7 MB/s eta 0:00:01\n",
      "     ---------------------------------------  16.0/16.3 MB 3.6 MB/s eta 0:00:01\n",
      "     ---------------------------------------  16.2/16.3 MB 3.6 MB/s eta 0:00:01\n",
      "     ---------------------------------------  16.3/16.3 MB 3.6 MB/s eta 0:00:01\n",
      "     ---------------------------------------- 16.3/16.3 MB 3.5 MB/s eta 0:00:00\n",
      "Requirement already satisfied: spacy<3.8.0,>=3.7.0 in c:\\users\\msi katana\\anaconda3\\lib\\site-packages (from fr-core-news-sm==3.7.0) (3.7.4)\n",
      "Requirement already satisfied: spacy-legacy<3.1.0,>=3.0.11 in c:\\users\\msi katana\\anaconda3\\lib\\site-packages (from spacy<3.8.0,>=3.7.0->fr-core-news-sm==3.7.0) (3.0.12)\n",
      "Requirement already satisfied: spacy-loggers<2.0.0,>=1.0.0 in c:\\users\\msi katana\\anaconda3\\lib\\site-packages (from spacy<3.8.0,>=3.7.0->fr-core-news-sm==3.7.0) (1.0.5)\n",
      "Requirement already satisfied: murmurhash<1.1.0,>=0.28.0 in c:\\users\\msi katana\\anaconda3\\lib\\site-packages (from spacy<3.8.0,>=3.7.0->fr-core-news-sm==3.7.0) (1.0.10)\n",
      "Requirement already satisfied: cymem<2.1.0,>=2.0.2 in c:\\users\\msi katana\\anaconda3\\lib\\site-packages (from spacy<3.8.0,>=3.7.0->fr-core-news-sm==3.7.0) (2.0.8)\n",
      "Requirement already satisfied: preshed<3.1.0,>=3.0.2 in c:\\users\\msi katana\\anaconda3\\lib\\site-packages (from spacy<3.8.0,>=3.7.0->fr-core-news-sm==3.7.0) (3.0.9)\n",
      "Requirement already satisfied: thinc<8.3.0,>=8.2.2 in c:\\users\\msi katana\\anaconda3\\lib\\site-packages (from spacy<3.8.0,>=3.7.0->fr-core-news-sm==3.7.0) (8.2.3)\n",
      "Requirement already satisfied: wasabi<1.2.0,>=0.9.1 in c:\\users\\msi katana\\anaconda3\\lib\\site-packages (from spacy<3.8.0,>=3.7.0->fr-core-news-sm==3.7.0) (1.1.2)\n",
      "Requirement already satisfied: srsly<3.0.0,>=2.4.3 in c:\\users\\msi katana\\anaconda3\\lib\\site-packages (from spacy<3.8.0,>=3.7.0->fr-core-news-sm==3.7.0) (2.4.8)\n",
      "Requirement already satisfied: catalogue<2.1.0,>=2.0.6 in c:\\users\\msi katana\\anaconda3\\lib\\site-packages (from spacy<3.8.0,>=3.7.0->fr-core-news-sm==3.7.0) (2.0.10)\n",
      "Requirement already satisfied: weasel<0.4.0,>=0.1.0 in c:\\users\\msi katana\\anaconda3\\lib\\site-packages (from spacy<3.8.0,>=3.7.0->fr-core-news-sm==3.7.0) (0.3.4)\n",
      "Requirement already satisfied: typer<0.10.0,>=0.3.0 in c:\\users\\msi katana\\anaconda3\\lib\\site-packages (from spacy<3.8.0,>=3.7.0->fr-core-news-sm==3.7.0) (0.9.4)\n",
      "Requirement already satisfied: smart-open<7.0.0,>=5.2.1 in c:\\users\\msi katana\\anaconda3\\lib\\site-packages (from spacy<3.8.0,>=3.7.0->fr-core-news-sm==3.7.0) (5.2.1)\n",
      "Requirement already satisfied: tqdm<5.0.0,>=4.38.0 in c:\\users\\msi katana\\anaconda3\\lib\\site-packages (from spacy<3.8.0,>=3.7.0->fr-core-news-sm==3.7.0) (4.65.0)\n",
      "Requirement already satisfied: requests<3.0.0,>=2.13.0 in c:\\users\\msi katana\\anaconda3\\lib\\site-packages (from spacy<3.8.0,>=3.7.0->fr-core-news-sm==3.7.0) (2.31.0)\n",
      "Requirement already satisfied: pydantic!=1.8,!=1.8.1,<3.0.0,>=1.7.4 in c:\\users\\msi katana\\anaconda3\\lib\\site-packages (from spacy<3.8.0,>=3.7.0->fr-core-news-sm==3.7.0) (1.10.8)\n",
      "Requirement already satisfied: jinja2 in c:\\users\\msi katana\\anaconda3\\lib\\site-packages (from spacy<3.8.0,>=3.7.0->fr-core-news-sm==3.7.0) (3.1.2)\n",
      "Requirement already satisfied: setuptools in c:\\users\\msi katana\\anaconda3\\lib\\site-packages (from spacy<3.8.0,>=3.7.0->fr-core-news-sm==3.7.0) (68.0.0)\n",
      "Requirement already satisfied: packaging>=20.0 in c:\\users\\msi katana\\anaconda3\\lib\\site-packages (from spacy<3.8.0,>=3.7.0->fr-core-news-sm==3.7.0) (23.1)\n",
      "Requirement already satisfied: langcodes<4.0.0,>=3.2.0 in c:\\users\\msi katana\\anaconda3\\lib\\site-packages (from spacy<3.8.0,>=3.7.0->fr-core-news-sm==3.7.0) (3.4.0)\n",
      "Requirement already satisfied: numpy>=1.19.0 in c:\\users\\msi katana\\anaconda3\\lib\\site-packages (from spacy<3.8.0,>=3.7.0->fr-core-news-sm==3.7.0) (1.24.3)\n",
      "Requirement already satisfied: language-data>=1.2 in c:\\users\\msi katana\\anaconda3\\lib\\site-packages (from langcodes<4.0.0,>=3.2.0->spacy<3.8.0,>=3.7.0->fr-core-news-sm==3.7.0) (1.2.0)\n",
      "Requirement already satisfied: typing-extensions>=4.2.0 in c:\\users\\msi katana\\anaconda3\\lib\\site-packages (from pydantic!=1.8,!=1.8.1,<3.0.0,>=1.7.4->spacy<3.8.0,>=3.7.0->fr-core-news-sm==3.7.0) (4.7.1)\n",
      "Requirement already satisfied: charset-normalizer<4,>=2 in c:\\users\\msi katana\\anaconda3\\lib\\site-packages (from requests<3.0.0,>=2.13.0->spacy<3.8.0,>=3.7.0->fr-core-news-sm==3.7.0) (2.0.4)\n",
      "Requirement already satisfied: idna<4,>=2.5 in c:\\users\\msi katana\\anaconda3\\lib\\site-packages (from requests<3.0.0,>=2.13.0->spacy<3.8.0,>=3.7.0->fr-core-news-sm==3.7.0) (3.4)\n",
      "Requirement already satisfied: urllib3<3,>=1.21.1 in c:\\users\\msi katana\\anaconda3\\lib\\site-packages (from requests<3.0.0,>=2.13.0->spacy<3.8.0,>=3.7.0->fr-core-news-sm==3.7.0) (1.26.16)\n",
      "Requirement already satisfied: certifi>=2017.4.17 in c:\\users\\msi katana\\anaconda3\\lib\\site-packages (from requests<3.0.0,>=2.13.0->spacy<3.8.0,>=3.7.0->fr-core-news-sm==3.7.0) (2023.7.22)\n",
      "Requirement already satisfied: blis<0.8.0,>=0.7.8 in c:\\users\\msi katana\\anaconda3\\lib\\site-packages (from thinc<8.3.0,>=8.2.2->spacy<3.8.0,>=3.7.0->fr-core-news-sm==3.7.0) (0.7.11)\n",
      "Requirement already satisfied: confection<1.0.0,>=0.0.1 in c:\\users\\msi katana\\anaconda3\\lib\\site-packages (from thinc<8.3.0,>=8.2.2->spacy<3.8.0,>=3.7.0->fr-core-news-sm==3.7.0) (0.1.4)\n",
      "Requirement already satisfied: colorama in c:\\users\\msi katana\\anaconda3\\lib\\site-packages (from tqdm<5.0.0,>=4.38.0->spacy<3.8.0,>=3.7.0->fr-core-news-sm==3.7.0) (0.4.6)\n",
      "Requirement already satisfied: click<9.0.0,>=7.1.1 in c:\\users\\msi katana\\anaconda3\\lib\\site-packages (from typer<0.10.0,>=0.3.0->spacy<3.8.0,>=3.7.0->fr-core-news-sm==3.7.0) (8.0.4)\n",
      "Requirement already satisfied: cloudpathlib<0.17.0,>=0.7.0 in c:\\users\\msi katana\\anaconda3\\lib\\site-packages (from weasel<0.4.0,>=0.1.0->spacy<3.8.0,>=3.7.0->fr-core-news-sm==3.7.0) (0.16.0)\n",
      "Requirement already satisfied: MarkupSafe>=2.0 in c:\\users\\msi katana\\anaconda3\\lib\\site-packages (from jinja2->spacy<3.8.0,>=3.7.0->fr-core-news-sm==3.7.0) (2.1.1)\n",
      "Requirement already satisfied: marisa-trie>=0.7.7 in c:\\users\\msi katana\\anaconda3\\lib\\site-packages (from language-data>=1.2->langcodes<4.0.0,>=3.2.0->spacy<3.8.0,>=3.7.0->fr-core-news-sm==3.7.0) (1.1.1)\n",
      "Installing collected packages: fr-core-news-sm\n",
      "Successfully installed fr-core-news-sm-3.7.0\n",
      "\u001b[38;5;2m[+] Download and installation successful\u001b[0m\n",
      "You can now load the package via spacy.load('fr_core_news_sm')\n"
     ]
    }
   ],
   "source": [
    "!python -m spacy download fr_core_news_sm"
   ]
  },
  {
   "cell_type": "code",
   "execution_count": 10,
   "id": "c372d429",
   "metadata": {},
   "outputs": [],
   "source": [
    "nlp = spacy.load(\"fr_core_news_sm\")"
   ]
  },
  {
   "cell_type": "code",
   "execution_count": 11,
   "id": "6f1b36c0",
   "metadata": {},
   "outputs": [
    {
     "name": "stdout",
     "output_type": "stream",
     "text": [
      "Tesla Inc  |  ORG  |  Companies, agencies, institutions, etc.\n",
      "Twitter  |  MISC  |  Miscellaneous entities, e.g. events, nationalities, products or works of art\n"
     ]
    }
   ],
   "source": [
    "doc = nlp(\"Tesla Inc va racheter Twitter pour $45 milliards de dollars\")\n",
    "for ent in doc.ents:\n",
    "    print(ent.text, \" | \", ent.label_, \" | \", spacy.explain(ent.label_))"
   ]
  },
  {
   "cell_type": "code",
   "execution_count": 12,
   "id": "0cea4df7",
   "metadata": {},
   "outputs": [
    {
     "name": "stdout",
     "output_type": "stream",
     "text": [
      "Tesla  |  PROPN  |  Tesla\n",
      "Inc  |  PROPN  |  Inc\n",
      "va  |  VERB  |  aller\n",
      "racheter  |  VERB  |  racheter\n",
      "Twitter  |  VERB  |  twitter\n",
      "pour  |  ADP  |  pour\n",
      "$  |  NOUN  |  dollar\n",
      "45  |  NUM  |  45\n",
      "milliards  |  NOUN  |  milliard\n",
      "de  |  ADP  |  de\n",
      "dollars  |  NOUN  |  dollar\n"
     ]
    }
   ],
   "source": [
    "for token in doc:\n",
    "    print(token, \" | \", token.pos_, \" | \", token.lemma_)"
   ]
  },
  {
   "cell_type": "markdown",
   "id": "ca63aa01",
   "metadata": {},
   "source": [
    "## adding components to the blank pipeline"
   ]
  },
  {
   "cell_type": "code",
   "execution_count": 13,
   "id": "4db98bfb",
   "metadata": {},
   "outputs": [
    {
     "data": {
      "text/plain": [
       "['ner']"
      ]
     },
     "execution_count": 13,
     "metadata": {},
     "output_type": "execute_result"
    }
   ],
   "source": [
    "source_nlp = spacy.load(\"en_core_web_sm\")\n",
    "\n",
    "nlp = spacy.blank(\"en\")\n",
    "nlp.add_pipe(\"ner\", source=source_nlp)\n",
    "nlp.pipe_names"
   ]
  },
  {
   "cell_type": "code",
   "execution_count": 14,
   "id": "ed8cbcd2",
   "metadata": {},
   "outputs": [
    {
     "name": "stdout",
     "output_type": "stream",
     "text": [
      "Tesla Inc ORG\n",
      "$45 billion MONEY\n"
     ]
    }
   ],
   "source": [
    "doc = nlp(\"Tesla Inc is going to acquire twitter for $45 billion\")\n",
    "for ent in doc.ents:\n",
    "    print(ent.text, ent.label_)"
   ]
  },
  {
   "cell_type": "code",
   "execution_count": null,
   "id": "0a99c56e",
   "metadata": {},
   "outputs": [],
   "source": []
  }
 ],
 "metadata": {
  "kernelspec": {
   "display_name": "Python 3 (ipykernel)",
   "language": "python",
   "name": "python3"
  },
  "language_info": {
   "codemirror_mode": {
    "name": "ipython",
    "version": 3
   },
   "file_extension": ".py",
   "mimetype": "text/x-python",
   "name": "python",
   "nbconvert_exporter": "python",
   "pygments_lexer": "ipython3",
   "version": "3.11.5"
  }
 },
 "nbformat": 4,
 "nbformat_minor": 5
}
